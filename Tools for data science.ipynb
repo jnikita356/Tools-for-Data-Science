{
 "cells": [
  {
   "cell_type": "markdown",
   "id": "a4f89d8d-ddc0-4445-b7d7-b3fc658558be",
   "metadata": {},
   "source": [
    "<h1>My Jupyter Notebook</h1>"
   ]
  },
  {
   "cell_type": "markdown",
   "id": "f8e52c42-6634-4fe6-b025-ed1cfcc35bb2",
   "metadata": {},
   "source": [
    "<b>Nikita Jain</b><br>\n",
    "Current Occupation - Software Developer"
   ]
  },
  {
   "cell_type": "markdown",
   "id": "5ba1e577-808c-4cd9-84dc-ac64d585ba20",
   "metadata": {},
   "source": [
    "<i>I am interested in data science because I am fond of mathematics, logic building and programming.</i>"
   ]
  },
  {
   "cell_type": "markdown",
   "id": "4f80de51-c536-4109-a00f-38e662fbf3a9",
   "metadata": {},
   "source": [
    "<h3>The next cell is supposed to print \"Hello World!\"</h3>"
   ]
  },
  {
   "cell_type": "code",
   "execution_count": 1,
   "id": "2e93684b-bc29-4efa-bbb2-644e96f5c8da",
   "metadata": {},
   "outputs": [
    {
     "name": "stdout",
     "output_type": "stream",
     "text": [
      "Hello World!\n"
     ]
    }
   ],
   "source": [
    "print(\"Hello World!\")"
   ]
  },
  {
   "cell_type": "markdown",
   "id": "22051e3d-b4e5-4143-bafb-73ce7bdd115a",
   "metadata": {},
   "source": [
    "<ul>\n",
    "    <li>Red</li>\n",
    "    <li>Orange</li>\n",
    "    <li>Green</li>\n",
    "    <li>Blue</li>\n",
    " </ul>\n",
    " <ol>\n",
    "    <li>Apple</li>\n",
    "    <li>Banana</li>\n",
    "    <li>Mango</li>\n",
    "    <li>Grapes</li>\n",
    " </ol>\n",
    " <a href = \"https://www.coursera.org/?skipBrowseRedirect=true\">Hyperlink to Coursera</a>"
   ]
  }
 ],
 "metadata": {
  "kernelspec": {
   "display_name": "Python 3 (ipykernel)",
   "language": "python",
   "name": "python3"
  },
  "language_info": {
   "codemirror_mode": {
    "name": "ipython",
    "version": 3
   },
   "file_extension": ".py",
   "mimetype": "text/x-python",
   "name": "python",
   "nbconvert_exporter": "python",
   "pygments_lexer": "ipython3",
   "version": "3.9.5"
  }
 },
 "nbformat": 4,
 "nbformat_minor": 5
}
